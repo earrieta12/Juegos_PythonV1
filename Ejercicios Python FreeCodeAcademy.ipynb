{
 "cells": [
  {
   "cell_type": "code",
   "execution_count": 4,
   "metadata": {},
   "outputs": [
    {
     "name": "stdout",
     "output_type": "stream",
     "text": [
      "subscribe to: \n",
      "subscribe to: \n",
      "adjective: amazing\n",
      "Verb: jump\n",
      "Verb: skydiving\n",
      "Famous Person: deadpool\n",
      "Computer programming is so amazing1 It makes me so excited all the time because I love to jump. Stay hidrated and skydiving like you are deadpool!\n"
     ]
    }
   ],
   "source": [
    "###Madlib\n",
    "adj = input(\"adjective: \")\n",
    "verb1 = input(\"Verb: \")\n",
    "verb2 = input(\"Verb: \")\n",
    "famous_person = input(\"Famous Person: \")\n",
    "\n",
    "madlib = f\"Computer programming is so {adj}! It makes me so excited all the time because \\\n",
    "I love to {verb1}. Stay hidrated and {verb2} like you are {famous_person}!\"\n",
    "\n",
    "print (madlib)\n"
   ]
  },
  {
   "cell_type": "code",
   "execution_count": 16,
   "metadata": {},
   "outputs": [
    {
     "name": "stdout",
     "output_type": "stream",
     "text": [
      "Is 6 too high(H), too low(L), or correct(C)??h\n",
      "Is 1 too high(H), too low(L), or correct(C)??l\n",
      "Is 2 too high(H), too low(L), or correct(C)??l\n",
      "Is 3 too high(H), too low(L), or correct(C)??l\n",
      "Is 5 too high(H), too low(L), or correct(C)??c\n",
      "Congratulation, the computer guess the number 5 correctly!\n"
     ]
    }
   ],
   "source": [
    "##Guess a random number\n",
    "import random\n",
    "\n",
    "def guess(x):\n",
    "    random_number = random.randint(1, x)\n",
    "    guess = 0\n",
    "    while guess != random_number:\n",
    "        guess=int(input(f'guess a number between 1 and {x}: '))\n",
    "        if guess < random_number:\n",
    "            print('Sorry, Try again, Too low')\n",
    "        elif guess > random_number:\n",
    "            print('Sorry, Try again, too high')\n",
    "    print(f'Congrats! You have guessed the number {random_number} correctely')\n",
    "\n",
    "    ###the computer guess our number\n",
    "\n",
    "def computer_guess(x):\n",
    "    low = 1\n",
    "    high = x\n",
    "    feedback = ''\n",
    "    while feedback != 'c':\n",
    "        if low != high:\n",
    "            guess = random.randint(low, high)\n",
    "        else:\n",
    "            guess = low\n",
    "        feedback = input(f'Is {guess} too high(H), too low(L), or correct(C)??').lower()\n",
    "        if feedback =='h':\n",
    "            high = guess - 1\n",
    "        elif feedback =='l':\n",
    "            low = guess + 1\n",
    "            \n",
    "    print(f'Congratulation, the computer guess the number {guess} correctly!')\n",
    "        \n",
    "        \n",
    "computer_guess(1000)"
   ]
  },
  {
   "cell_type": "code",
   "execution_count": 20,
   "metadata": {},
   "outputs": [
    {
     "name": "stdout",
     "output_type": "stream",
     "text": [
      "'r' para piedra, 'p' para papel y 't' para tijerap\n",
      "You won\n"
     ]
    }
   ],
   "source": [
    "##piedra papel o tijera\n",
    "import random\n",
    "\n",
    "def play():\n",
    "    user = input(\"'r' para piedra, 'p' para papel y 't' para tijera\")\n",
    "    computer = random.choice(['r','p','t'])\n",
    "    if user == computer:\n",
    "        return 'tie'\n",
    "    \n",
    "    if is_win(user, computer):\n",
    "        return 'You won'\n",
    "    \n",
    "    return 'You lost'\n",
    "\n",
    "def is_win(player, oponent):\n",
    "    if (player == 'r' and oponent == 't') or (player == 't' and oponent == 'p') or (player == 'p' and oponent == 'r'):\n",
    "        return True\n",
    "        \n",
    "print (play())   "
   ]
  },
  {
   "cell_type": "code",
   "execution_count": 50,
   "metadata": {},
   "outputs": [
    {
     "name": "stdout",
     "output_type": "stream",
     "text": [
      "you have  4  and you have used these letters:  \n",
      "Current word:  - - - - - - -\n",
      "ALBERTO\n",
      "guess a letter: a\n",
      "you have  4  and you have used these letters:  A\n",
      "Current word:  A - - - - - -\n",
      "ALBERTO\n",
      "guess a letter: l\n",
      "you have  4  and you have used these letters:  A L\n",
      "Current word:  A L - - - - -\n",
      "ALBERTO\n",
      "guess a letter: b\n",
      "you have  4  and you have used these letters:  A L B\n",
      "Current word:  A L B - - - -\n",
      "ALBERTO\n",
      "guess a letter: f\n",
      "La letra no se encuentra en la palabra\n",
      "you have  3  and you have used these letters:  A L B F\n",
      "Current word:  A L B - - - -\n",
      "ALBERTO\n",
      "guess a letter: s\n",
      "La letra no se encuentra en la palabra\n",
      "you have  2  and you have used these letters:  L B F A S\n",
      "Current word:  A L B - - - -\n",
      "ALBERTO\n",
      "guess a letter: a\n",
      "Ya seleccionaste esa letra, selecciona otra\n",
      "you have  2  and you have used these letters:  L B F A S\n",
      "Current word:  A L B - - - -\n",
      "ALBERTO\n",
      "guess a letter: e\n",
      "you have  2  and you have used these letters:  L B F A S E\n",
      "Current word:  A L B E - - -\n",
      "ALBERTO\n",
      "guess a letter: w\n",
      "La letra no se encuentra en la palabra\n",
      "you have  1  and you have used these letters:  L B F A S E W\n",
      "Current word:  A L B E - - -\n",
      "ALBERTO\n",
      "guess a letter: q\n",
      "La letra no se encuentra en la palabra\n",
      "You died, the word was:  ALBERTO\n"
     ]
    }
   ],
   "source": [
    "##Juego Hangman o juego del ahorcado\n",
    "\n",
    "\n",
    "import string\n",
    "import random\n",
    "##from words import words si tenemos las words en otro archivo llamado words\n",
    "\n",
    "def get_valid_word(words):\n",
    "    words= ['EDWIN', 'ALBERTO', \"AARRIETA\", \"FERRER\"]\n",
    "    word = random.choice(words) ##selecciona una palabra del listadod e palabras\n",
    "    while '-' in word or ' ' in word:\n",
    "        word = random.choice(words)\n",
    "    \n",
    "    return word\n",
    "\n",
    "def hangman():\n",
    "    words= ['EDWIN', 'ALBERTO', \"AARRIETA\", \"FERRER\"]\n",
    "    word = get_valid_word(words)\n",
    "    word_letters = set(word)\n",
    "    alphabet = set(string.ascii_uppercase)\n",
    "    used_letters = set()\n",
    "    \n",
    "    lives = 4\n",
    "    \n",
    "    while len(word_letters)>0 and lives > 0 :\n",
    "        #letters used\n",
    "        \n",
    "        print('you have ', lives,' and you have used these letters: ', ' '.join(used_letters))\n",
    "        \n",
    "        word_list = [letter if letter in used_letters else '-' for letter in word] \n",
    "        print('Current word: ', ' '.join(word_list))\n",
    "        print(word)\n",
    "        \n",
    "        \n",
    "        user_letter = input('guess a letter: ').upper()\n",
    "        if user_letter in alphabet - used_letters:\n",
    "            used_letters.add(user_letter)\n",
    "            if user_letter in word_letters:\n",
    "                word_letters.remove(user_letter)\n",
    "            else:\n",
    "                lives = lives -1\n",
    "                print('La letra no se encuentra en la palabra')\n",
    "        elif user_letter in used_letters:\n",
    "            print('Ya seleccionaste esa letra, selecciona otra')\n",
    "\n",
    "        else: \n",
    "            print('caracter invalido')\n",
    "    if lives == 0:\n",
    "        print('You died, the word was: ', word)\n",
    "    else:\n",
    "        print('Adivinaste la palabra: ', word, '!!')    \n",
    "    \n",
    "hangman()\n"
   ]
  },
  {
   "cell_type": "code",
   "execution_count": null,
   "metadata": {},
   "outputs": [],
   "source": []
  }
 ],
 "metadata": {
  "kernelspec": {
   "display_name": "Python 3",
   "language": "python",
   "name": "python3"
  },
  "language_info": {
   "codemirror_mode": {
    "name": "ipython",
    "version": 3
   },
   "file_extension": ".py",
   "mimetype": "text/x-python",
   "name": "python",
   "nbconvert_exporter": "python",
   "pygments_lexer": "ipython3",
   "version": "3.8.5"
  }
 },
 "nbformat": 4,
 "nbformat_minor": 4
}
